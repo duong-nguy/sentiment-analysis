{
 "cells": [
  {
   "cell_type": "code",
   "execution_count": 1,
   "id": "8e24b2f3",
   "metadata": {
    "_cell_guid": "b1076dfc-b9ad-4769-8c92-a6c4dae69d19",
    "_uuid": "8f2839f25d086af736a60e9eeb907d3b93b6e0e5",
    "execution": {
     "iopub.execute_input": "2023-02-11T08:54:11.237963Z",
     "iopub.status.busy": "2023-02-11T08:54:11.236698Z",
     "iopub.status.idle": "2023-02-11T08:54:11.259941Z",
     "shell.execute_reply": "2023-02-11T08:54:11.258951Z"
    },
    "papermill": {
     "duration": 0.031039,
     "end_time": "2023-02-11T08:54:11.262219",
     "exception": false,
     "start_time": "2023-02-11T08:54:11.231180",
     "status": "completed"
    },
    "tags": []
   },
   "outputs": [
    {
     "name": "stdout",
     "output_type": "stream",
     "text": [
      "/kaggle/input/amazon-reviews/amazon_review_polarity_csv.tgz\n",
      "/kaggle/input/amazon-reviews/train.csv\n",
      "/kaggle/input/amazon-reviews/test.csv\n"
     ]
    }
   ],
   "source": [
    "# This Python 3 environment comes with many helpful analytics libraries installed\n",
    "# It is defined by the kaggle/python Docker image: https://github.com/kaggle/docker-python\n",
    "# For example, here's several helpful packages to load\n",
    "\n",
    "import numpy as np # linear algebra\n",
    "import pandas as pd # data processing, CSV file I/O (e.g. pd.read_csv)\n",
    "\n",
    "# Input data files are available in the read-only \"../input/\" directory\n",
    "# For example, running this (by clicking run or pressing Shift+Enter) will list all files under the input directory\n",
    "\n",
    "import os\n",
    "for dirname, _, filenames in os.walk('/kaggle/input'):\n",
    "    for filename in filenames:\n",
    "        print(os.path.join(dirname, filename))\n",
    "\n",
    "# You can write up to 20GB to the current directory (/kaggle/working/) that gets preserved as output when you create a version using \"Save & Run All\" \n",
    "# You can also write temporary files to /kaggle/temp/, but they won't be saved outside of the current session"
   ]
  },
  {
   "cell_type": "code",
   "execution_count": 2,
   "id": "b6132c69",
   "metadata": {
    "execution": {
     "iopub.execute_input": "2023-02-11T08:54:11.269901Z",
     "iopub.status.busy": "2023-02-11T08:54:11.269020Z",
     "iopub.status.idle": "2023-02-11T08:54:16.384173Z",
     "shell.execute_reply": "2023-02-11T08:54:16.383189Z"
    },
    "papermill": {
     "duration": 5.121396,
     "end_time": "2023-02-11T08:54:16.386605",
     "exception": false,
     "start_time": "2023-02-11T08:54:11.265209",
     "status": "completed"
    },
    "tags": []
   },
   "outputs": [],
   "source": [
    "import tensorflow as tf\n",
    "import io\n",
    "from tensorflow import keras\n",
    "from tensorflow.keras.layers import TextVectorization,Dense,Embedding,GlobalAveragePooling1D,LSTM,Dropout\n",
    "from tensorflow.keras import Sequential\n",
    "from tensorflow.data import Dataset,AUTOTUNE\n",
    "from keras.callbacks import EarlyStopping"
   ]
  },
  {
   "cell_type": "code",
   "execution_count": 3,
   "id": "596fb253",
   "metadata": {
    "execution": {
     "iopub.execute_input": "2023-02-11T08:54:16.395478Z",
     "iopub.status.busy": "2023-02-11T08:54:16.394058Z",
     "iopub.status.idle": "2023-02-11T08:54:16.399099Z",
     "shell.execute_reply": "2023-02-11T08:54:16.398191Z"
    },
    "papermill": {
     "duration": 0.01135,
     "end_time": "2023-02-11T08:54:16.401149",
     "exception": false,
     "start_time": "2023-02-11T08:54:16.389799",
     "status": "completed"
    },
    "tags": []
   },
   "outputs": [],
   "source": [
    "VOCAB_SIZE = 5000\n",
    "SEQUENCE_LENGTH = 50 #258"
   ]
  },
  {
   "cell_type": "code",
   "execution_count": 4,
   "id": "165965cd",
   "metadata": {
    "execution": {
     "iopub.execute_input": "2023-02-11T08:54:16.408057Z",
     "iopub.status.busy": "2023-02-11T08:54:16.407785Z",
     "iopub.status.idle": "2023-02-11T08:54:16.416491Z",
     "shell.execute_reply": "2023-02-11T08:54:16.415645Z"
    },
    "papermill": {
     "duration": 0.014434,
     "end_time": "2023-02-11T08:54:16.418472",
     "exception": false,
     "start_time": "2023-02-11T08:54:16.404038",
     "status": "completed"
    },
    "tags": []
   },
   "outputs": [],
   "source": [
    "class Amazon_reviews:\n",
    "    def __init__(self,path,batch=512,train_test_split=0.8)->None:\n",
    "        data = pd.read_csv(path,header=None)\n",
    "        self._process(data)\n",
    "        self.ratio = train_test_split\n",
    "        self.batch = batch\n",
    "    def _process(self,data):\n",
    "        X = data[1].astype(str) + \" \" + data[2].astype(str)\n",
    "        Y = data[0].astype(np.float32) - 1\n",
    "        self.len = len(X)\n",
    "        self.dataset = Dataset.from_tensor_slices((X,Y))\n",
    "        \n",
    "    def get_train_dataset(self)->Dataset:\n",
    "        return self.dataset.take(\n",
    "            int(self.len*self.ratio)).batch(self.batch).shuffle(self.len).prefetch(AUTOTUNE)\n",
    "    def get_val_dataset(self)->Dataset:\n",
    "        return self.dataset.skip(\n",
    "            int(self.len*self.ratio)).batch(self.batch).prefetch(AUTOTUNE)\n",
    "    "
   ]
  },
  {
   "cell_type": "code",
   "execution_count": 5,
   "id": "b7be3dd5",
   "metadata": {
    "execution": {
     "iopub.execute_input": "2023-02-11T08:54:16.426247Z",
     "iopub.status.busy": "2023-02-11T08:54:16.424828Z",
     "iopub.status.idle": "2023-02-11T08:55:01.431031Z",
     "shell.execute_reply": "2023-02-11T08:55:01.428249Z"
    },
    "papermill": {
     "duration": 45.012368,
     "end_time": "2023-02-11T08:55:01.433682",
     "exception": false,
     "start_time": "2023-02-11T08:54:16.421314",
     "status": "completed"
    },
    "tags": []
   },
   "outputs": [
    {
     "name": "stderr",
     "output_type": "stream",
     "text": [
      "2023-02-11 08:54:56.683788: I tensorflow/stream_executor/cuda/cuda_gpu_executor.cc:937] successful NUMA node read from SysFS had negative value (-1), but there must be at least one NUMA node, so returning NUMA node zero\n",
      "2023-02-11 08:54:56.780074: I tensorflow/stream_executor/cuda/cuda_gpu_executor.cc:937] successful NUMA node read from SysFS had negative value (-1), but there must be at least one NUMA node, so returning NUMA node zero\n",
      "2023-02-11 08:54:56.780881: I tensorflow/stream_executor/cuda/cuda_gpu_executor.cc:937] successful NUMA node read from SysFS had negative value (-1), but there must be at least one NUMA node, so returning NUMA node zero\n",
      "2023-02-11 08:54:56.783342: I tensorflow/core/platform/cpu_feature_guard.cc:142] This TensorFlow binary is optimized with oneAPI Deep Neural Network Library (oneDNN) to use the following CPU instructions in performance-critical operations:  AVX2 AVX512F FMA\n",
      "To enable them in other operations, rebuild TensorFlow with the appropriate compiler flags.\n",
      "2023-02-11 08:54:56.783633: I tensorflow/stream_executor/cuda/cuda_gpu_executor.cc:937] successful NUMA node read from SysFS had negative value (-1), but there must be at least one NUMA node, so returning NUMA node zero\n",
      "2023-02-11 08:54:56.784337: I tensorflow/stream_executor/cuda/cuda_gpu_executor.cc:937] successful NUMA node read from SysFS had negative value (-1), but there must be at least one NUMA node, so returning NUMA node zero\n",
      "2023-02-11 08:54:56.784989: I tensorflow/stream_executor/cuda/cuda_gpu_executor.cc:937] successful NUMA node read from SysFS had negative value (-1), but there must be at least one NUMA node, so returning NUMA node zero\n",
      "2023-02-11 08:54:58.966606: I tensorflow/stream_executor/cuda/cuda_gpu_executor.cc:937] successful NUMA node read from SysFS had negative value (-1), but there must be at least one NUMA node, so returning NUMA node zero\n",
      "2023-02-11 08:54:58.967460: I tensorflow/stream_executor/cuda/cuda_gpu_executor.cc:937] successful NUMA node read from SysFS had negative value (-1), but there must be at least one NUMA node, so returning NUMA node zero\n",
      "2023-02-11 08:54:58.968104: I tensorflow/stream_executor/cuda/cuda_gpu_executor.cc:937] successful NUMA node read from SysFS had negative value (-1), but there must be at least one NUMA node, so returning NUMA node zero\n",
      "2023-02-11 08:54:58.968690: I tensorflow/core/common_runtime/gpu/gpu_device.cc:1510] Created device /job:localhost/replica:0/task:0/device:GPU:0 with 15401 MB memory:  -> device: 0, name: Tesla P100-PCIE-16GB, pci bus id: 0000:00:04.0, compute capability: 6.0\n"
     ]
    }
   ],
   "source": [
    "amazon_reviews = Amazon_reviews(\"/kaggle/input/amazon-reviews/train.csv\")"
   ]
  },
  {
   "cell_type": "code",
   "execution_count": 6,
   "id": "c68ccc86",
   "metadata": {
    "execution": {
     "iopub.execute_input": "2023-02-11T08:55:01.442014Z",
     "iopub.status.busy": "2023-02-11T08:55:01.441050Z",
     "iopub.status.idle": "2023-02-11T08:56:10.044367Z",
     "shell.execute_reply": "2023-02-11T08:56:10.043316Z"
    },
    "papermill": {
     "duration": 68.609944,
     "end_time": "2023-02-11T08:56:10.047009",
     "exception": false,
     "start_time": "2023-02-11T08:55:01.437065",
     "status": "completed"
    },
    "tags": []
   },
   "outputs": [
    {
     "name": "stderr",
     "output_type": "stream",
     "text": [
      "2023-02-11 08:55:01.578802: I tensorflow/compiler/mlir/mlir_graph_optimization_pass.cc:185] None of the MLIR Optimization Passes are enabled (registered 2)\n"
     ]
    }
   ],
   "source": [
    "vectorize_layer = TextVectorization(\n",
    "    max_tokens=VOCAB_SIZE,\n",
    "    output_mode=\"int\",\n",
    "    output_sequence_length = SEQUENCE_LENGTH,\n",
    ")\n",
    "vectorize_layer.adapt(amazon_reviews.get_train_dataset().map(lambda x,y:x))"
   ]
  },
  {
   "cell_type": "code",
   "execution_count": 7,
   "id": "1a2a2c9a",
   "metadata": {
    "execution": {
     "iopub.execute_input": "2023-02-11T08:56:10.054680Z",
     "iopub.status.busy": "2023-02-11T08:56:10.054374Z",
     "iopub.status.idle": "2023-02-11T08:56:10.501668Z",
     "shell.execute_reply": "2023-02-11T08:56:10.500741Z"
    },
    "papermill": {
     "duration": 0.453541,
     "end_time": "2023-02-11T08:56:10.503970",
     "exception": false,
     "start_time": "2023-02-11T08:56:10.050429",
     "status": "completed"
    },
    "tags": []
   },
   "outputs": [],
   "source": [
    "model = Sequential([\n",
    "    vectorize_layer,\n",
    "    Embedding(VOCAB_SIZE,8),\n",
    "    keras.layers.Bidirectional(LSTM(8)),\n",
    "    Dropout(0.2),\n",
    "    Dense(16,activation='relu'),\n",
    "    Dense(1,activation='tanh')\n",
    "])"
   ]
  },
  {
   "cell_type": "code",
   "execution_count": 8,
   "id": "a271f9b0",
   "metadata": {
    "execution": {
     "iopub.execute_input": "2023-02-11T08:56:10.511459Z",
     "iopub.status.busy": "2023-02-11T08:56:10.511152Z",
     "iopub.status.idle": "2023-02-11T08:56:10.516565Z",
     "shell.execute_reply": "2023-02-11T08:56:10.515741Z"
    },
    "papermill": {
     "duration": 0.011388,
     "end_time": "2023-02-11T08:56:10.518508",
     "exception": false,
     "start_time": "2023-02-11T08:56:10.507120",
     "status": "completed"
    },
    "tags": []
   },
   "outputs": [],
   "source": [
    "early_stop = tf.keras.callbacks.EarlyStopping(monitor='val_loss', patience=2)\n"
   ]
  },
  {
   "cell_type": "code",
   "execution_count": 9,
   "id": "6535a1ba",
   "metadata": {
    "execution": {
     "iopub.execute_input": "2023-02-11T08:56:10.525345Z",
     "iopub.status.busy": "2023-02-11T08:56:10.525085Z",
     "iopub.status.idle": "2023-02-11T08:56:10.537339Z",
     "shell.execute_reply": "2023-02-11T08:56:10.536530Z"
    },
    "papermill": {
     "duration": 0.018005,
     "end_time": "2023-02-11T08:56:10.539405",
     "exception": false,
     "start_time": "2023-02-11T08:56:10.521400",
     "status": "completed"
    },
    "tags": []
   },
   "outputs": [],
   "source": [
    "model.compile(optimizer='adam',\n",
    "              loss=tf.keras.losses.BinaryCrossentropy(),\n",
    "              metrics=['accuracy'],\n",
    "              )"
   ]
  },
  {
   "cell_type": "code",
   "execution_count": 10,
   "id": "e81b07bb",
   "metadata": {
    "execution": {
     "iopub.execute_input": "2023-02-11T08:56:10.546313Z",
     "iopub.status.busy": "2023-02-11T08:56:10.546053Z",
     "iopub.status.idle": "2023-02-11T09:07:21.488725Z",
     "shell.execute_reply": "2023-02-11T09:07:21.487811Z"
    },
    "papermill": {
     "duration": 670.948551,
     "end_time": "2023-02-11T09:07:21.490871",
     "exception": false,
     "start_time": "2023-02-11T08:56:10.542320",
     "status": "completed"
    },
    "tags": []
   },
   "outputs": [
    {
     "name": "stdout",
     "output_type": "stream",
     "text": [
      "Epoch 1/5\n"
     ]
    },
    {
     "name": "stderr",
     "output_type": "stream",
     "text": [
      "2023-02-11 08:56:20.031329: I tensorflow/stream_executor/cuda/cuda_dnn.cc:369] Loaded cuDNN version 8005\n"
     ]
    },
    {
     "name": "stdout",
     "output_type": "stream",
     "text": [
      "5625/5625 [==============================] - 126s 20ms/step - loss: 0.2805 - accuracy: 0.8811 - val_loss: 0.2220 - val_accuracy: 0.9094\n",
      "Epoch 2/5\n",
      "5625/5625 [==============================] - 121s 21ms/step - loss: 0.2276 - accuracy: 0.9085 - val_loss: 0.2098 - val_accuracy: 0.9161\n",
      "Epoch 3/5\n",
      "5625/5625 [==============================] - 121s 20ms/step - loss: 0.2195 - accuracy: 0.9127 - val_loss: 0.2098 - val_accuracy: 0.9170\n",
      "Epoch 4/5\n",
      "5625/5625 [==============================] - 121s 21ms/step - loss: 0.2121 - accuracy: 0.9153 - val_loss: 0.2006 - val_accuracy: 0.9197\n",
      "Epoch 5/5\n",
      "5625/5625 [==============================] - 121s 21ms/step - loss: 0.2069 - accuracy: 0.9176 - val_loss: 0.1981 - val_accuracy: 0.9210\n"
     ]
    },
    {
     "data": {
      "text/plain": [
       "<keras.callbacks.History at 0x7f76b11ddf50>"
      ]
     },
     "execution_count": 10,
     "metadata": {},
     "output_type": "execute_result"
    }
   ],
   "source": [
    "model.fit(\n",
    "    amazon_reviews.get_train_dataset(),\n",
    "    validation_data=amazon_reviews.get_val_dataset(),\n",
    "    callbacks=[early_stop],\n",
    "    epochs=5)"
   ]
  },
  {
   "cell_type": "code",
   "execution_count": 11,
   "id": "6ff9d28d",
   "metadata": {
    "execution": {
     "iopub.execute_input": "2023-02-11T09:07:22.357972Z",
     "iopub.status.busy": "2023-02-11T09:07:22.356930Z",
     "iopub.status.idle": "2023-02-11T09:07:33.248065Z",
     "shell.execute_reply": "2023-02-11T09:07:33.247070Z"
    },
    "papermill": {
     "duration": 11.34152,
     "end_time": "2023-02-11T09:07:33.251031",
     "exception": false,
     "start_time": "2023-02-11T09:07:21.909511",
     "status": "completed"
    },
    "tags": []
   },
   "outputs": [
    {
     "name": "stderr",
     "output_type": "stream",
     "text": [
      "2023-02-11 09:07:27.089345: W tensorflow/python/util/util.cc:348] Sets are not currently considered sequences, but this may change in the future, so consider avoiding using them.\n"
     ]
    }
   ],
   "source": [
    "tf.keras.models.save_model(model,\"sentiment\")"
   ]
  }
 ],
 "metadata": {
  "kernelspec": {
   "display_name": "Python 3",
   "language": "python",
   "name": "python3"
  },
  "language_info": {
   "codemirror_mode": {
    "name": "ipython",
    "version": 3
   },
   "file_extension": ".py",
   "mimetype": "text/x-python",
   "name": "python",
   "nbconvert_exporter": "python",
   "pygments_lexer": "ipython3",
   "version": "3.7.12"
  },
  "papermill": {
   "default_parameters": {},
   "duration": 813.678518,
   "end_time": "2023-02-11T09:07:37.336182",
   "environment_variables": {},
   "exception": null,
   "input_path": "__notebook__.ipynb",
   "output_path": "__notebook__.ipynb",
   "parameters": {},
   "start_time": "2023-02-11T08:54:03.657664",
   "version": "2.3.4"
  }
 },
 "nbformat": 4,
 "nbformat_minor": 5
}
